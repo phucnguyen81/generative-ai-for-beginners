{
 "cells": [
  {
   "cell_type": "code",
   "execution_count": null,
   "id": "883ef56b",
   "metadata": {},
   "outputs": [],
   "source": [
    "# Import necessary libraries\n",
    "import numpy as np\n",
    "from sklearn.neighbors import NearestNeighbors"
   ]
  },
  {
   "cell_type": "code",
   "execution_count": null,
   "id": "bca44067",
   "metadata": {},
   "outputs": [],
   "source": [
    "# Create sample data: 2D points\n",
    "data = np.array([\n",
    "    [-1, 1],\n",
    "    [-2, 2],\n",
    "    [-3, 3],\n",
    "    [1, 2],\n",
    "    [2, 3],\n",
    "    [3, 4],\n",
    "    [4, 5]\n",
    "])\n",
    "\n",
    "data"
   ]
  },
  {
   "cell_type": "code",
   "execution_count": null,
   "id": "a5aad016",
   "metadata": {},
   "outputs": [],
   "source": [
    "# Initialize NearestNeighbors model\n",
    "# n_neighbors: number of neighbors to find\n",
    "# algorithm: method to compute neighbors ('auto', 'ball_tree', 'kd_tree', 'brute')\n",
    "nn = NearestNeighbors(n_neighbors=3, algorithm=\"ball_tree\")\n",
    "\n",
    "nn"
   ]
  },
  {
   "cell_type": "code",
   "execution_count": null,
   "id": "03704b6a",
   "metadata": {},
   "outputs": [],
   "source": [
    "# Fit the model on the data, which builds an index to speed up searches\n",
    "# for the data\n",
    "nn.fit(data)\n",
    "\n",
    "# The index should be a BallTree instance\n",
    "nn._tree"
   ]
  },
  {
   "cell_type": "code",
   "execution_count": null,
   "id": "be251999",
   "metadata": {},
   "outputs": [],
   "source": [
    "# Query the nearest neighbors for each point in the dataset\n",
    "distances, indices = nn.kneighbors(data)\n",
    "\n",
    "# Indices: indices of the neighbors.\n",
    "index, neighbor1, neighbor2 = indices[0]\n",
    "# Distances: distances from the neighbors.\n",
    "distance0, distance1, distance2 = distances[index]\n",
    "\n",
    "assert distance0 == 0, \"Distance from a point to itself must be 0.\"\n",
    "assert distance1 <= distance2, \"Distances must be sorted.\"\n",
    "\n",
    "print(f\"Neighbor 1 of {data[index]} is: {data[neighbor1]}, distance: {distance1}\")\n",
    "print(f\"Neighbor 2 of {data[index]} is: {data[neighbor2]}, distance: {distance2}\")"
   ]
  },
  {
   "cell_type": "code",
   "execution_count": null,
   "id": "e81806cb",
   "metadata": {},
   "outputs": [],
   "source": [
    "# Build the k-neighbors graph (connectivity matrix)\n",
    "# mode='connectivity' returns a binary adjacency matrix\n",
    "knn_graph = nn.kneighbors_graph(data, mode='connectivity')\n",
    "\n",
    "knn_matrix = knn_graph.toarray()\n",
    "print(\"K-neighbors graph adjacency matrix:\")\n",
    "print(knn_matrix)\n",
    "\n",
    "assert knn_matrix[index][neighbor1] == 1\n",
    "assert knn_matrix[index][neighbor2] == 1"
   ]
  },
  {
   "cell_type": "code",
   "execution_count": null,
   "id": "9533dea8",
   "metadata": {},
   "outputs": [],
   "source": [
    "# Example: Find neighbors within a radius\n",
    "radius = 2.5\n",
    "distances_radius, indices_radius = nn.radius_neighbors(data, radius=radius)\n",
    "\n",
    "print(f\"\\nNeighbors within radius {radius} for each point:\")\n",
    "for i, (dist, ind) in enumerate(zip(distances_radius, indices_radius)):\n",
    "    print(f\"Point {i} -> neighbors indices: {ind}, distances: {dist}\")"
   ]
  }
 ],
 "metadata": {
  "kernelspec": {
   "display_name": ".venv",
   "language": "python",
   "name": "python3"
  },
  "language_info": {
   "codemirror_mode": {
    "name": "ipython",
    "version": 3
   },
   "file_extension": ".py",
   "mimetype": "text/x-python",
   "name": "python",
   "nbconvert_exporter": "python",
   "pygments_lexer": "ipython3",
   "version": "3.10.11"
  }
 },
 "nbformat": 4,
 "nbformat_minor": 5
}
